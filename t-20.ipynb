{
 "cells": [
  {
   "cell_type": "code",
   "execution_count": null,
   "metadata": {},
   "outputs": [],
   "source": [
    "import numpy as np\n",
    "import pandas as pd\n",
    "\n"
   ]
  },
  {
   "cell_type": "code",
   "execution_count": null,
   "metadata": {},
   "outputs": [],
   "source": [
    "df = pd.read_csv(\"/Users/kuljeetsinghshekhawat/Downloads/T-20 World cup 2022.csv\")\n"
   ]
  },
  {
   "cell_type": "markdown",
   "metadata": {},
   "source": [
    "total run of england in the pak vs eng match"
   ]
  },
  {
   "cell_type": "code",
   "execution_count": null,
   "metadata": {},
   "outputs": [],
   "source": [
    "eng_inning_df = df[(df['current_innings'] == 'ENG') & (df['match_name'] == 'ENG v PAK')]\n",
    "\n",
    "total_runs_eng = eng_inning_df['runs'].sum()\n",
    "\n",
    "print(\"total runs for pakisthan in the current inning:\",total_runs_eng)"
   ]
  },
  {
   "cell_type": "markdown",
   "metadata": {},
   "source": [
    "total run of pak in the pak vs eng match"
   ]
  },
  {
   "cell_type": "code",
   "execution_count": null,
   "metadata": {},
   "outputs": [],
   "source": [
    "pak_inning_df = df[(df['current_innings'] == 'PAK') & (df['match_name'] == 'ENG v PAK')]\n",
    "\n",
    "total_runs_pak = pak_inning_df['runs'].sum()\n",
    "\n",
    "print(\"total runs for pakisthan in the current inning:\",total_runs_pak)"
   ]
  },
  {
   "cell_type": "code",
   "execution_count": null,
   "metadata": {},
   "outputs": [],
   "source": [
    "\n",
    "\n",
    "total_runs_by_team = df.groupby(['match_name','current_innings'])['runs'].sum().reset_index()\n",
    "\n",
    "print(\"Total Runs by Team in Each Match:\")\n",
    "print(total_runs_by_team)\n"
   ]
  },
  {
   "cell_type": "markdown",
   "metadata": {},
   "source": [
    "boundaries"
   ]
  },
  {
   "cell_type": "code",
   "execution_count": null,
   "metadata": {},
   "outputs": [],
   "source": [
    "boundary_df = df[df['isBoundary'] == True]\n",
    "\n",
    "boundaries_by_player = boundary_df.groupby(['match_name'])['isBoundary'].sum().reset_index()\n",
    "\n",
    "most_boundaries_by_match = boundaries_by_player.loc[boundaries_by_player.groupby('match_name')['isBoundary'].idxmax()]\n",
    "\n",
    "\n",
    "print(\"Player with the Most Boundaries in Each Match:\")\n",
    "print(most_boundaries_by_match)"
   ]
  },
  {
   "cell_type": "markdown",
   "metadata": {},
   "source": [
    "wides"
   ]
  },
  {
   "cell_type": "code",
   "execution_count": null,
   "metadata": {},
   "outputs": [],
   "source": [
    "wides_df = df[df['isWide'] == True]\n",
    "\n",
    "wides_by_player = wides_df.groupby(['match_name'])['isWide'].sum().reset_index()\n",
    "\n",
    "most_wides_by_match = wides_by_player.loc[wides_by_player.groupby('match_name')['isWide'].idxmax()]\n",
    "\n",
    "\n",
    "print(\"Player with the Most wides in Each Match:\")\n",
    "print(most_wides_by_match)"
   ]
  },
  {
   "cell_type": "markdown",
   "metadata": {},
   "source": [
    "no balls\n"
   ]
  },
  {
   "cell_type": "code",
   "execution_count": null,
   "metadata": {},
   "outputs": [],
   "source": [
    "noball_df = df[df['isNoball'] == True]\n",
    "\n",
    "noball_by_player = noball_df.groupby(['match_name'])['isNoball'].sum().reset_index()\n",
    "\n",
    "most_Noball_by_match = noball_by_player.loc[noball_by_player.groupby('match_name')['isNoball'].idxmax()]\n",
    "\n",
    "\n",
    "print(\"Player with the Most Noballs in Each Match:\")\n",
    "print(most_Noball_by_match)"
   ]
  },
  {
   "cell_type": "markdown",
   "metadata": {},
   "source": [
    "most wickets by bowler1"
   ]
  },
  {
   "cell_type": "code",
   "execution_count": null,
   "metadata": {},
   "outputs": [],
   "source": [
    "\n",
    "wickets_by_bowler1 = df.groupby(['match_name', 'bowler1_name'])['bowler1_wkts'].max().reset_index()\n",
    "\n",
    "\n",
    "print(\"Bowler1 with the Number of Wickets in Each Match:\")\n",
    "print(wickets_by_bowler1[['match_name', 'bowler1_name', 'bowler1_wkts']])"
   ]
  },
  {
   "cell_type": "markdown",
   "metadata": {},
   "source": [
    "most wickets by bowler 2"
   ]
  },
  {
   "cell_type": "code",
   "execution_count": null,
   "metadata": {},
   "outputs": [],
   "source": [
    "def display_total_wickets_by_bowlers(df):\n",
    "    # Combine 'bowler1_name' and 'bowler2_name' into a single column 'bowler_name'\n",
    "    df['bowler_name'] = df['bowler1_name'].fillna('') + df['bowler2_name'].fillna('')\n",
    "\n",
    "    # Group the DataFrame by 'match_name' and 'bowler_name', then sum the number of wickets for each bowler in each match\n",
    "    total_wickets_by_bowlers = df.groupby(['match_name'])[['bowler1_wkts', 'bowler2_wkts']].max().reset_index()\n",
    "\n",
    "    # Display the result for both bowlers\n",
    "    print(\"Total Wickets Taken by Bowlers in Each Match:\")\n",
    "    print(total_wickets_by_bowlers[['match_name',  'bowler1_wkts', 'bowler2_wkts']])\n",
    "\n",
    "# Display total wickets for both bowlers\n",
    "display_total_wickets_by_bowlers(df)\n"
   ]
  }
 ],
 "metadata": {
  "kernelspec": {
   "display_name": "base",
   "language": "python",
   "name": "python3"
  },
  "language_info": {
   "codemirror_mode": {
    "name": "ipython",
    "version": 3
   },
   "file_extension": ".py",
   "mimetype": "text/x-python",
   "name": "python",
   "nbconvert_exporter": "python",
   "pygments_lexer": "ipython3",
   "version": "3.11.4"
  }
 },
 "nbformat": 4,
 "nbformat_minor": 2
}
